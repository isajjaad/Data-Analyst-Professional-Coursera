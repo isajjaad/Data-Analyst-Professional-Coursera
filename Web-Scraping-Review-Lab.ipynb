{
 "cells": [
  {
   "cell_type": "markdown",
   "metadata": {},
   "source": []
  },
  {
   "cell_type": "markdown",
   "metadata": {},
   "source": [
    "# **Web Scraping Lab Practice**\n"
   ]
  },
  {
   "cell_type": "markdown",
   "metadata": {},
   "source": []
  },
  {
   "cell_type": "markdown",
   "metadata": {},
   "source": [
    "## Objectives\n"
   ]
  },
  {
   "cell_type": "markdown",
   "metadata": {},
   "source": [
    "After completing this lab you will be able to:\n"
   ]
  },
  {
   "cell_type": "markdown",
   "metadata": {},
   "source": [
    "-   Download a webpage using requests module\n",
    "-   Scrape all links from a web page\n",
    "-   Scrape all image urls from a web page\n",
    "-   Scrape data from html tables\n"
   ]
  },
  {
   "cell_type": "markdown",
   "metadata": {},
   "source": []
  },
  {
   "cell_type": "markdown",
   "metadata": {},
   "source": [
    "Import the required modules and functions\n"
   ]
  },
  {
   "cell_type": "code",
   "execution_count": 13,
   "metadata": {},
   "outputs": [],
   "source": [
    "from bs4 import BeautifulSoup # this module helps in web scrapping.\n",
    "import requests  # this module helps us to download a web page"
   ]
  },
  {
   "cell_type": "markdown",
   "metadata": {},
   "source": [
    "Download the contents of the web page\n"
   ]
  },
  {
   "cell_type": "code",
   "execution_count": 14,
   "metadata": {},
   "outputs": [],
   "source": [
    "url = \"http://www.ibm.com\""
   ]
  },
  {
   "cell_type": "code",
   "execution_count": 15,
   "metadata": {},
   "outputs": [],
   "source": [
    "# get the contents of the webpage in text format and store in a variable called data\n",
    "data  = requests.get(url).text "
   ]
  },
  {
   "cell_type": "markdown",
   "metadata": {},
   "source": [
    "Create a soup object using the class BeautifulSoup\n"
   ]
  },
  {
   "cell_type": "code",
   "execution_count": 16,
   "metadata": {},
   "outputs": [],
   "source": [
    "soup = BeautifulSoup(data,\"html5lib\")  # create a soup object using the variable 'data'"
   ]
  },
  {
   "cell_type": "markdown",
   "metadata": {},
   "source": [
    "Scrape all links\n"
   ]
  },
  {
   "cell_type": "code",
   "execution_count": 17,
   "metadata": {},
   "outputs": [
    {
     "name": "stdout",
     "output_type": "stream",
     "text": [
      "https://www.ibm.com/pk/en\n",
      "https://www.ibm.com/sitemap/pk/en\n",
      "/pk-en/node/1706826\n",
      "https://1.dam.s81c.com/public/content/dam/worldwide-content/events/internal-events/ul/g/4d/d3/4dd3b087-e58e-452d-a26ec1a36c755d2f.jpg\n",
      "https://1.dam.s81c.com/public/content/dam/worldwide-content/events/internal-events/ul/g/4d/d3/4dd3b087-e58e-452d-a26ec1a36c755d2f.jpg\n",
      "https://www.ibm.com/pk-en/cloud?lnk=STW_PK_HP_L1_&psrc=NONE&pexp=DEF&lnk2=learn_Cloud\n",
      "/taxonomy/term/85416\n",
      "/pk-en/node/1706856\n",
      "https://ibmvirtualsummit.vfairs.com/?utm_source=Organic&utm_medium=Home_News_Stripe&utm_campaign=Virtual_Summit&utm_content=PK\n",
      "/taxonomy/term/85416\n",
      "/pk-en/node/1706851\n",
      "/pk-en/node/1706836\n",
      "/ae-en/node/1706831\n",
      "/pk-en/node/1706846\n",
      "/ae-en/node/1706841\n",
      "/taxonomy/term/85416\n",
      "/pk-en/node/2193047\n",
      "/ae-en/node/2193039\n",
      "/ae-en/node/2193041\n",
      "/ae-en/node/2193043\n",
      "/ae-en/node/2398590\n",
      "/pk-en/node/1706821\n",
      "/taxonomy/term/85416\n",
      "https://www.ibm.com/employment/ae-en/?lnk=fab\n",
      "/pk-en/node/1706816\n",
      "https://www.ibm.com/ae-en/products/offers-and-discounts?lnk=STW_AE_HPT_NAV_TL&lnk2=shop_mktpl_MPDISC\n",
      "/ae-en/node/2449542\n",
      "/ae-en/node/2449552\n",
      "/ae-en/node/2449566\n",
      "/ae-en/node/2449568\n",
      "/taxonomy/term/85416\n",
      "/pk-en/node/1706866\n",
      "/ae-en/node/1706861\n",
      "/taxonomy/term/85416\n",
      "https://www.ibm.com/ae-en/products\n",
      "https://www.ibm.com/pk-en/cloud?lnk=STW_PK_HP_L1_&psrc=NONE&pexp=DEF&lnk2=learn_Cloud\n",
      "https://www.ibm.com/pk-en/cloud?lnk=STW_PK_HP_L1_&psrc=NONE&pexp=DEF&lnk2=learn_Cloud\n",
      "https://www.ibm.com/ae-en/security?lnk=aeenhpv18nf1\n",
      "https://www.ibm.com/pages/ibm/qz6asaes/1581037797007001PJAd.htm\n",
      "https://www.ibm.com/ae-en/events/cloud-and-ai-virtual-forum?lnk=aehpv18f2\n",
      "https://www.ibm.com/case-studies/honda-pakistan-it-infrastructure-sap\n",
      "https://www.ibm.com/marketing/mea-businessclub/?lnk=aehpv18f4\n",
      "https://www.ibm.com/ae-en/products/cloud-pak-for-data?lnk=STW_AE_HP_P1_&psrc=NONE&pexp=DEF&lnk2=trial_CloudPakData\n",
      "https://www.ibm.com/ae-en/products/db2-database?lnk=STW_AE_HP_P2_BLK&psrc=NONE&pexp=DEF&lnk2=trial_DB2\n",
      "https://www.ibm.com/ae-en/products/z15?lnk=STW_AE_HP_P4_&psrc=NONE&pexp=DEF&lnk2=learn_z15\n",
      "https://www.ibm.com/ae-en/it-infrastructure/storage/hybrid-cloud-storage?lnk=STW_AE_HP_P3_&psrc=NONE&pexp=DEF&lnk2=learn_CloudPrivStorage\n",
      "https://www.ibm.com/ae-en/products/offers-and-discounts?lnk=STW_AE_HPT_NAV_TL&lnk2=shop_mktpl_MPDISC\n",
      "https://www.ibm.com/ae-en/marketplace/hosted-security-intelligence?lnk=STW_AE_HPT_T1_BLK&psrc=NONE&pexp=DEF&lnk2=trial_QRadarCloud\n",
      "https://www.ibm.com/ae-en/security/data-security/guardium?lnk=STW_AE_HPT_T2_BLK&psrc=NONE&pexp=DEF&lnk2=trial_GuardAnalyzr\n",
      "https://www.ibm.com/ae-en/cloud/cloud-pak-for-integration?lnk=STW_AE_HPT_T3_BLK&psrc=NONE&pexp=DEF&lnk2=learn_CloudPakInt\n",
      "https://www.ibm.com/ae-en/products/cloud-pak-for-data?lnk=STW_AE_HPT_T4_BLK&psrc=NONE&pexp=DEF&lnk2=trial_CloudPakData\n",
      "https://www.ibm.com/search?lang=en&amp;cc=pk&amp;q=\n",
      "https://www.ibm.com/ae-en/products\n",
      "https://www.ibm.com/ae-en/products\n",
      "//www.ibm.com/pk-en/products/category/technology/analytics\n",
      "//www.ibm.com/pk-en/products/category/technology/cloud-computing\n",
      "//www.ibm.com/pk-en/products/category/technology/mobile-technology\n",
      "//www.ibm.com/pk-en/products/category/technology/cognitive-computing-and-AI\n",
      "//www.ibm.com/pk-en/products/category/technology/IT-infrastructure\n",
      "//www.ibm.com/pk-en/products/category/technology/security\n",
      "//www.ibm.com/pk-en/products/category/technology/blockchain\n",
      "//www.ibm.com/pk-en/products/category/technology/IT-management\n",
      "//www.ibm.com/pk-en/products/category/technology/software-development\n",
      "//www.ibm.com/pk-en/products/category/technology/analytics\n",
      "//www.ibm.com/pk-en/products/category/technology/cloud-computing\n",
      "//www.ibm.com/pk-en/products/category/technology/mobile-technology\n",
      "//www.ibm.com/pk-en/products/category/technology/cognitive-computing-and-AI\n",
      "//www.ibm.com/pk-en/products/category/technology/IT-infrastructure\n",
      "//www.ibm.com/pk-en/products/category/technology/security\n",
      "//www.ibm.com/pk-en/products/category/technology/blockchain\n",
      "//www.ibm.com/pk-en/products/category/technology/IT-management\n",
      "//www.ibm.com/pk-en/products/category/technology/software-development\n",
      "//www.ibm.com/pk-en/products/category/business/business-operations\n",
      "//www.ibm.com/pk-en/products/category/business/content-management\n",
      "//www.ibm.com/pk-en/products/category/business/human-resources\n",
      "//www.ibm.com/pk-en/products/category/business/collaboration\n",
      "//www.ibm.com/pk-en/products/category/business/customer-service-and-CRM\n",
      "//www.ibm.com/pk-en/products/category/business/marketing\n",
      "//www.ibm.com/pk-en/products/category/business/commerce\n",
      "//www.ibm.com/pk-en/products/category/business/finance\n",
      "//www.ibm.com/pk-en/products/category/business/supply-chain-management\n",
      "https://www.ibm.com/services/learning/?lnk=ushpv18s1\n",
      "https://www.ibm.com/services/learning/?lnk=ushpv18s1\n",
      "https://www.ibm.com/services/learning/?lnk=ushpv18s1\n",
      "##\n",
      "https://www.ibm.com/services/learning/?lnk=ushpv18s1\n",
      "https://www.ibm.com/services/learning/?lnk=ushpv18s1\n",
      "##\n",
      "https://www.ibm.com/services/learning/?lnk=ushpv18s1\n",
      "https://www.ibm.com/services/learning/?lnk=ushpv18s1\n",
      "https://www.ibm.com/services/learning/?lnk=ushpv18s1\n",
      "https://www.ibm.com/employment/ae-en/?lnk=fab\n",
      "https://www.ibm.com/employment/ae-en/?lnk=fab\n",
      "#\n"
     ]
    }
   ],
   "source": [
    "for link in soup.find_all('a'):  # in html anchor/link is represented by the tag <a>\n",
    "    print(link.get('href'))"
   ]
  },
  {
   "cell_type": "markdown",
   "metadata": {},
   "source": [
    "Scrape  all images\n"
   ]
  },
  {
   "cell_type": "code",
   "execution_count": 18,
   "metadata": {},
   "outputs": [
    {
     "name": "stdout",
     "output_type": "stream",
     "text": [
      "https://1.dam.s81c.com/public/content/dam/worldwide-content/events/internal-events/ul/g/4d/d3/4dd3b087-e58e-452d-a26ec1a36c755d2f.jpg\n",
      "https://1.dam.s81c.com/public/content/dam/worldwide-content/other/ul/g/84/7e/847eafdb-51ac-4815-8172baba40d48fb8.jpg\n",
      "https://1.dam.s81c.com/public/content/dam/worldwide-content/homepage/ul/g/27/2d/this-week-at-ibm-cloud-seminer-20210308.jpg\n",
      "https://1.dam.s81c.com/public/content/dam/worldwide-content/homepage/ul/g/93/ef/Migrating_SAP_to_cloud.jpg\n",
      "https://1.cms.s81c.com/sites/default/files/2020-11-13/033fe6cf-f5fb-42ad-8a1cdcb680b7a970.jpg\n",
      "https://1.dam.s81c.com/public/content/dam/worldwide-content/homepage/ul/g/29/ec/29ec397a-6f63-4f9d-b74f59fd20651e0d.jpg\n",
      "https://1.dam.s81c.com/public/content/dam/worldwide-content/homepage/ul/g/5b/af/public_cloud_canada_homepage.jpg\n",
      "https://1.dam.s81c.com/public/content/dam/worldwide-content/homepage/ul/g/54/ef/Data_privacy_blog_Claude_card.jpg\n",
      "https://1.dam.s81c.com/public/content/dam/worldwide-content/homepage/ul/g/99/de/11252020-f-hybrid-cloud-telecom-ad-444x320.jpg\n",
      "https://1.dam.s81c.com/m/6441c02e23090051/original/QRadar-on-Cloud-21400-700x420.png\n",
      "https://1.cms.s81c.com/sites/default/files/2020-08-26/guardium%20bun.png\n",
      "https://1.dam.s81c.com/public/content/dam/worldwide-content/other/ul/g/bb/82/bb827877-7bb8-447e-87c2c51ec398bea9.png\n",
      "https://1.dam.s81c.com/m/2b3f6f2cfca08afa/original/Cloud-Pak-for-Data-22396-700x420.png\n",
      "https://1.dam.s81c.com/m/6e652a22b9e6ba2e/original/ibm-skills-gateway-444x320.jpg\n",
      "https://1.dam.s81c.com/m/6e652a22b9e6ba2e/original/ibm-skills-gateway-444x320.jpg\n"
     ]
    }
   ],
   "source": [
    "for link in soup.find_all('img'):# in html image is represented by the tag <img>\n",
    "    print(link.get('src'))"
   ]
  },
  {
   "cell_type": "markdown",
   "metadata": {},
   "source": [
    "## Scrape data from html tables\n"
   ]
  },
  {
   "cell_type": "code",
   "execution_count": 19,
   "metadata": {},
   "outputs": [],
   "source": [
    "#The below url contains a html table with data about colors and color codes."
   ]
  },
  {
   "cell_type": "code",
   "execution_count": 20,
   "metadata": {},
   "outputs": [],
   "source": [
    "url = \"https://cf-courses-data.s3.us.cloud-object-storage.appdomain.cloud/IBM-DA0321EN-SkillsNetwork/labs/datasets/HTMLColorCodes.html\""
   ]
  },
  {
   "cell_type": "markdown",
   "metadata": {},
   "source": [
    "Before proceeding to scrape a web site, you need to examine the contents, and the way data is organized on the website. Open the above url in your browser and check how many rows and columns are there in the color table.\n"
   ]
  },
  {
   "cell_type": "code",
   "execution_count": 21,
   "metadata": {},
   "outputs": [],
   "source": [
    "# get the contents of the webpage in text format and store in a variable called data\n",
    "data  = requests.get(url).text"
   ]
  },
  {
   "cell_type": "code",
   "execution_count": 22,
   "metadata": {},
   "outputs": [],
   "source": [
    "soup = BeautifulSoup(data,\"html5lib\")"
   ]
  },
  {
   "cell_type": "code",
   "execution_count": 23,
   "metadata": {},
   "outputs": [],
   "source": [
    "#find a html table in the web page\n",
    "table = soup.find('table') # in html table is represented by the tag <table>"
   ]
  },
  {
   "cell_type": "code",
   "execution_count": 24,
   "metadata": {},
   "outputs": [
    {
     "name": "stdout",
     "output_type": "stream",
     "text": [
      "Color Name--->Hex Code#RRGGBB\n",
      "lightsalmon--->#FFA07A\n",
      "salmon--->#FA8072\n",
      "darksalmon--->#E9967A\n",
      "lightcoral--->#F08080\n",
      "coral--->#FF7F50\n",
      "tomato--->#FF6347\n",
      "orangered--->#FF4500\n",
      "gold--->#FFD700\n",
      "orange--->#FFA500\n",
      "darkorange--->#FF8C00\n",
      "lightyellow--->#FFFFE0\n",
      "lemonchiffon--->#FFFACD\n",
      "papayawhip--->#FFEFD5\n",
      "moccasin--->#FFE4B5\n",
      "peachpuff--->#FFDAB9\n",
      "palegoldenrod--->#EEE8AA\n",
      "khaki--->#F0E68C\n",
      "darkkhaki--->#BDB76B\n",
      "yellow--->#FFFF00\n",
      "lawngreen--->#7CFC00\n",
      "chartreuse--->#7FFF00\n",
      "limegreen--->#32CD32\n",
      "lime--->#00FF00\n",
      "forestgreen--->#228B22\n",
      "green--->#008000\n",
      "powderblue--->#B0E0E6\n",
      "lightblue--->#ADD8E6\n",
      "lightskyblue--->#87CEFA\n",
      "skyblue--->#87CEEB\n",
      "deepskyblue--->#00BFFF\n",
      "lightsteelblue--->#B0C4DE\n",
      "dodgerblue--->#1E90FF\n"
     ]
    }
   ],
   "source": [
    "#Get all rows from the table\n",
    "for row in table.find_all('tr'): # in html table row is represented by the tag <tr>\n",
    "    # Get all columns in each row.\n",
    "    cols = row.find_all('td') # in html a column is represented by the tag <td>\n",
    "    color_name = cols[2].getText() # store the value in column 3 as color_name\n",
    "    color_code = cols[3].getText() # store the value in column 4 as color_code\n",
    "    print(\"{}--->{}\".format(color_name,color_code))"
   ]
  },
  {
   "cell_type": "markdown",
   "metadata": {},
   "source": [
    "## Authors\n"
   ]
  },
  {
   "cell_type": "markdown",
   "metadata": {},
   "source": [
    "Ramesh Sannareddy\n"
   ]
  },
  {
   "cell_type": "markdown",
   "metadata": {},
   "source": [
    "### Other Contributors\n"
   ]
  },
  {
   "cell_type": "markdown",
   "metadata": {},
   "source": [
    "Rav Ahuja\n"
   ]
  },
  {
   "cell_type": "markdown",
   "metadata": {},
   "source": [
    "## Change Log\n"
   ]
  },
  {
   "cell_type": "markdown",
   "metadata": {},
   "source": [
    "| Date (YYYY-MM-DD) | Version | Changed By        | Change Description                 |\n",
    "| ----------------- | ------- | ----------------- | ---------------------------------- |\n",
    "| 2020-10-17        | 0.1     | Ramesh Sannareddy | Created initial version of the lab |\n"
   ]
  },
  {
   "cell_type": "markdown",
   "metadata": {},
   "source": [
    " Copyright © 2020 IBM Corporation. This notebook and its source code are released under the terms of the [MIT License](https://cognitiveclass.ai/mit-license?cm_mmc=Email_Newsletter-_-Developer_Ed%2BTech-_-WW_WW-_-SkillsNetwork-Courses-IBM-DA0321EN-SkillsNetwork-21426264&cm_mmca1=000026UJ&cm_mmca2=10006555&cm_mmca3=M12345678&cvosrc=email.Newsletter.M12345678&cvo_campaign=000026UJ&cm_mmc=Email_Newsletter-_-Developer_Ed%2BTech-_-WW_WW-_-SkillsNetwork-Courses-IBM-DA0321EN-SkillsNetwork-21426264&cm_mmca1=000026UJ&cm_mmca2=10006555&cm_mmca3=M12345678&cvosrc=email.Newsletter.M12345678&cvo_campaign=000026UJ&cm_mmc=Email_Newsletter-_-Developer_Ed%2BTech-_-WW_WW-_-SkillsNetwork-Courses-IBM-DA0321EN-SkillsNetwork-21426264&cm_mmca1=000026UJ&cm_mmca2=10006555&cm_mmca3=M12345678&cvosrc=email.Newsletter.M12345678&cvo_campaign=000026UJ&cm_mmc=Email_Newsletter-_-Developer_Ed%2BTech-_-WW_WW-_-SkillsNetwork-Courses-IBM-DA0321EN-SkillsNetwork-21426264&cm_mmca1=000026UJ&cm_mmca2=10006555&cm_mmca3=M12345678&cvosrc=email.Newsletter.M12345678&cvo_campaign=000026UJ).\n"
   ]
  }
 ],
 "metadata": {
  "kernelspec": {
   "display_name": "Python 3",
   "language": "python",
   "name": "python3"
  },
  "language_info": {
   "codemirror_mode": {
    "name": "ipython",
    "version": 3
   },
   "file_extension": ".py",
   "mimetype": "text/x-python",
   "name": "python",
   "nbconvert_exporter": "python",
   "pygments_lexer": "ipython3",
   "version": "3.8.3"
  }
 },
 "nbformat": 4,
 "nbformat_minor": 4
}
